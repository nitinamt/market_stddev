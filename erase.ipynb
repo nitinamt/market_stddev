{
 "cells": [
  {
   "cell_type": "code",
   "execution_count": 1,
   "id": "594bf191-97c3-4fb1-aec8-9adc90018434",
   "metadata": {},
   "outputs": [],
   "source": [
    "from matplotlib import pyplot\n",
    "import plotly.io as pio\n",
    "pio.renderers.default = \"iframe\"\n",
    "\n"
   ]
  },
  {
   "cell_type": "code",
   "execution_count": 2,
   "id": "9c3bb203-452e-4a3d-a221-c1adf7454302",
   "metadata": {},
   "outputs": [],
   "source": [
    "import yfinance as yf\n",
    "import pandas as pd\n",
    "import numpy as np\n",
    "from datetime import datetime, timedelta\n",
    "import json\n",
    "import logging\n",
    "\n",
    "# Minimal version for reliable deployment\n",
    "logging.basicConfig(level=logging.INFO)"
   ]
  },
  {
   "cell_type": "code",
   "execution_count": 1,
   "id": "b2260c14-2fe4-4998-bf6a-90770b346660",
   "metadata": {},
   "outputs": [
    {
     "name": "stdout",
     "output_type": "stream",
     "text": [
      "YF.download() has changed argument auto_adjust default to True\n"
     ]
    },
    {
     "name": "stderr",
     "output_type": "stream",
     "text": [
      "INFO:root:Simple dashboard created successfully!\n",
      "INFO:root:Status: ✅ NORMAL | Price: $6173.07 | σ: 1.52\n"
     ]
    },
    {
     "data": {
      "text/plain": [
       "True"
      ]
     },
     "execution_count": 1,
     "metadata": {},
     "output_type": "execute_result"
    }
   ],
   "source": [
    "import simple_dashboard\n",
    "simple_dashboard.get_data_and_create_simple_dashboard()"
   ]
  },
  {
   "cell_type": "code",
   "execution_count": 3,
   "id": "822de092-856e-441f-872b-55bafbf7292d",
   "metadata": {
    "scrolled": true
   },
   "outputs": [],
   "source": [
    "# Get S&P 500 data\n",
    "end_date = datetime.now()\n",
    "start_date = end_date - timedelta(days=300)\n",
    "\n",
    "sp500 = yf.download('^GSPC', start=start_date, end=end_date, progress=False)\n",
    "closes = sp500['Close'].dropna()\n",
    "\n",
    "# Calculate metrics\n",
    "ma_200 = closes.rolling(window=200).mean()\n",
    "std_200 = closes.rolling(window=200).std()\n",
    "\n",
    "current_price = closes.iloc[-1].values[0]\n",
    "current_ma = ma_200.iloc[-1].values[0]\n",
    "current_std = std_200.iloc[-1].values[0]\n",
    "std_away = (current_price - current_ma) / current_std\n",
    "\n",
    "# Get last 30 days for chart data\n",
    "last_30_days = closes.tail(30)\n",
    "ma_30_days = ma_200.tail(30)\n",
    "\n",
    "# Convert to lists for JavaScript\n",
    "dates = [d.strftime('%Y-%m-%d') for d in last_30_days.index]\n",
    "# prices = last_30_days.tolist()\n",
    "prices = last_30_days[\"^GSPC\"].values.tolist()\n",
    "# mas = ma_30_days.tolist()\n",
    "mas = ma_30_days[\"^GSPC\"].values.tolist()\n",
    "\n",
    "# Determine status\n",
    "abs_std = abs(std_away)\n",
    "if 2.0 <= abs_std <= 3.0:\n",
    "    status = \"🚨 ALERT\"\n",
    "    status_color = \"#ff4444\"\n",
    "elif abs_std < 2.0:\n",
    "    status = \"✅ NORMAL\"\n",
    "    status_color = \"#44ff44\"\n",
    "else:\n",
    "    status = \"⚠️ EXTREME\"\n",
    "    status_color = \"#ff8800\"\n",
    "\n",
    "direction = \"above\" if std_away > 0 else \"below\"\n",
    "\n",
    "# Create HTML with embedded Chart.js\n",
    "html_content = f\"\"\"\n",
    "\n",
    "    color: {status_color};\n",
    "    <p>Last Updated: {datetime.now().strftime('%Y-%m-%d %H:%M:%S ET')}</p>\n",
    "        <div class=\"metric-value\">${current_price:.2f}</div>\n",
    "        <div class=\"metric-value\">${current_ma:.2f}</div>\n",
    "        <div class=\"metric-value\">{direction.title()}</div>\n",
    "    <p><strong>Current Status:</strong> The S&P 500 is <strong>{abs_std:.2f} standard deviations {direction}</strong> its 200-day moving average.</p>\n",
    "        labels: {dates},\n",
    "            data: {prices},\n",
    "            data: {mas},\n",
    "\"\"\"\n",
    "\n",
    "\n",
    "\n",
    "# Save JSON data\n",
    "data_json = {\n",
    "    'timestamp': datetime.now().isoformat(),\n",
    "    'current_price': float(current_price),\n",
    "    'ma_200': float(current_ma),\n",
    "    'std_200': float(current_std),\n",
    "    'std_away': float(std_away),\n",
    "    'status': status,\n",
    "    'direction': direction,\n",
    "    'alert': 2.0 <= abs_std <= 3.0\n",
    "}\n",
    "\n",
    "\n",
    "# logging.info(f\"Status: {status} | Price: ${current_price:.2f} | σ: {std_away:.2f}\")"
   ]
  },
  {
   "cell_type": "code",
   "execution_count": 6,
   "id": "5bc9d6fe-9edd-4862-9f62-a349586ef683",
   "metadata": {},
   "outputs": [
    {
     "data": {
      "text/plain": [
       "False"
      ]
     },
     "execution_count": 6,
     "metadata": {},
     "output_type": "execute_result"
    }
   ],
   "source": [
    "2.0 <= abs_std <= 3.0"
   ]
  }
 ],
 "metadata": {
  "kernelspec": {
   "display_name": "e311",
   "language": "python",
   "name": "e311"
  },
  "language_info": {
   "codemirror_mode": {
    "name": "ipython",
    "version": 3
   },
   "file_extension": ".py",
   "mimetype": "text/x-python",
   "name": "python",
   "nbconvert_exporter": "python",
   "pygments_lexer": "ipython3",
   "version": "3.11.4"
  }
 },
 "nbformat": 4,
 "nbformat_minor": 5
}
